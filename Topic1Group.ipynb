{
  "nbformat": 4,
  "nbformat_minor": 0,
  "metadata": {
    "colab": {
      "provenance": [],
      "include_colab_link": true
    },
    "kernelspec": {
      "name": "python3",
      "display_name": "Python 3"
    },
    "language_info": {
      "name": "python"
    }
  },
  "cells": [
    {
      "cell_type": "markdown",
      "metadata": {
        "id": "view-in-github",
        "colab_type": "text"
      },
      "source": [
        "<a href=\"https://colab.research.google.com/github/sefsnf/Math152/blob/main/Topic1Group.ipynb\" target=\"_parent\"><img src=\"https://colab.research.google.com/assets/colab-badge.svg\" alt=\"Open In Colab\"/></a>"
      ]
    },
    {
      "cell_type": "markdown",
      "source": [
        "# Exploration 1 Guide\n",
        "\n",
        "Choose one (yes, only one) of the following topics for your exploration.  These are small group projects -- there should be no more than 5 people in each group.  Every person in the group will receive the same grade, and please try to contribute to your group!\n",
        "\n",
        "You may use any programming techniques we have discussed in Notebooks 1, 2, and 3.  Please do not use other \"fancy\" techniques, creating custom classes, using dictionary comprehension, importing highly specialized packages, etc.  Keep it simple please!\n",
        "\n",
        "Your notebook should be a report containing both text cells and well-\n",
        "documented code cells. Your text cells should include a heading (title) and\n",
        "short (one paragraph) introduction, and should lead the reader through your\n",
        "explorations. You should write text summaries of what you found, in clear\n",
        "and precise English. Before long code blocks, you should introduce the code,\n",
        "and tell the reader what it does, and why you are doing it.  At the end, you should write a little conclusion, or at least get to a nice stopping point.\n",
        "\n",
        "There are a lot of papers written about these topics. You shouldn’t\n",
        "need to look at these papers (maybe one or two, if you want), but if you\n",
        "do use results you must cite them. For citation, please provide complete\n",
        "bibliographic information in your notebook, and web links to papers online.\n",
        "Limit your references to published papers and preprints, by looking at (1)\n",
        "papers published in scholarly math journals, (2) papers published by scien-\n",
        "tific journals, e.g., Annals of Mathematics or a popular journal like Quanta, and (3) preprints from arxiv.org. If you want to look at Wikipedia, it’s fine, but please use it primarily for the references (typically given at the bottom of the Wikipedia page.\n",
        "\n",
        "You may look things up, but do not just copy and paste code from elsewhere, especially without citation.  If you do not cite your sources, that is a violation of academic integrity.  If you get completely stuck, and look up someone else's code (or use a computer code-generating tool), please describe what happened -- where you got stuck and where the code comes from (URL, print source, etc.)  Just **be honest**!\n",
        "\n",
        "Your submission should be a link to a ipynb notebook stored on a GitHub directory, just like your NB1 assignment."
      ],
      "metadata": {
        "id": "KjqXfRJqJoc-"
      }
    },
    {
      "cell_type": "markdown",
      "source": [
        "# Topic 1:  Gauss's Circle Conjecture\n",
        "\n",
        "Consider a circle of radius $R$ centered at the origin $(0,0)$.  So the area of the circle is $A(R) = \\pi R^2$.  A **lattice point** is a point $(a,b)$ with integer coordinates, i.e., $a$ and $b$ are integers.  Let $L(R)$ be the number of lattice points contained inside the circle of radius $R$.  In other words, $L(R)$ is the number of points $(a,b)$ with integers $a,b$ satisfying $a^2 + b^2 \\leq R^2$.  (Note I've used a less-than-or-equal here).\n",
        "\n",
        "One might suspect, as Gauss did, that $A(R)$ is pretty close to $L(R)$.  Explore this using Python.  In particular, explore the following questions:\n",
        "\n",
        "1.  (Must do:) Write a function to compute $L(R)$.  Try to make it compute $L(R)$ quickly, if you can, even if $R$ is big (like 1000 perhaps, or maybe much bigger).  But be careful... don't ask your computer to try $L(1000000)$ until you try some smaller inputs and see how long it will take.  \n",
        "\n",
        "2.  Analyze the \"error\" $E(R) = A(R) - L(R)$.  How does this grow, relative to the size of $R$?  Does it grow as fast as $R^2$?  As fast as $R$?  As fast as $\\sqrt{R}$?  As fast as $R^{2/3}$?  How can you use Python, and your math skills, to carry out this analysis?  Conduct this analysis with a combination of Python code and text blocks to explain what you're doing.\n",
        "\n",
        "3.  There are many variants on this topic.  For example, spheres in 3-d instead of circles.  Or ellipses instead of circles.  Or different kinds of lattices besides the usual \"square grid\" of integer-coordinates.  Try one variant, and describe your findings.\n",
        "\n",
        "\n"
      ],
      "metadata": {
        "id": "q6q_MdphJvLl"
      }
    },
    {
      "cell_type": "code",
      "source": [
        "'''\n",
        "function uses nested for loop and if statements to search for numbers between [0,r]\n",
        "prints the numbers (a,b) such that a^2 + b^2 <= r^2\n",
        "returns the number of lattice points in a area of r radius\n",
        "'''\n",
        "def latticeCalc(r):\n",
        "  counter = 0     # used for keeping count of how many pair (a,b) exists such that a^2 + b^2 <= r^2\n",
        "  for x in range(0, r+1):\n",
        "        for y in range(x, r+1):\n",
        "            if x**2 + y**2 <= r**2 and x != y:      # if x^2 + y^2 <= r^2 then by the commutative property of addition we get that y^2 + x^2 is also <= r^2\n",
        "              print(\"({:d})^2 + ({:d})^2 <= ({:d})^2, hence ({:d},{:d}) is a lattice point of L({:d})\".format(x,y,r,x,y,r))\n",
        "              print(\"({:d})^2 + ({:d})^2 <= ({:d})^2, hence ({:d},{:d}) is a lattice point of L({:d})\".format(y,x,r,y,x,r))\n",
        "              counter += 2\n",
        "            elif x**2 + y**2 <= r**2 and x == y:      \n",
        "              print(\"({:d})^2 + ({:d})^2 <= ({:d})^2, hence ({:d},{:d}) is a lattice point of L({:d})\".format(x,y,r,x,y,r))\n",
        "              counter += 1\n",
        "  print(\"The number of lattice points in L({:d}): {:d}\".format(r,counter))\n",
        "latticeCalc(10)"
      ],
      "metadata": {
        "colab": {
          "base_uri": "https://localhost:8080/"
        },
        "id": "RPDRgjicislh",
        "outputId": "3aad3ccc-0f34-478f-895c-967db57c85ee"
      },
      "execution_count": 16,
      "outputs": [
        {
          "output_type": "stream",
          "name": "stdout",
          "text": [
            "(0)^2 + (0)^2 <= (10)^2, hence (0,0) is a lattice point of L(10)\n",
            "(0)^2 + (1)^2 <= (10)^2, hence (0,1) is a lattice point of L(10)\n",
            "(1)^2 + (0)^2 <= (10)^2, hence (1,0) is a lattice point of L(10)\n",
            "(0)^2 + (2)^2 <= (10)^2, hence (0,2) is a lattice point of L(10)\n",
            "(2)^2 + (0)^2 <= (10)^2, hence (2,0) is a lattice point of L(10)\n",
            "(0)^2 + (3)^2 <= (10)^2, hence (0,3) is a lattice point of L(10)\n",
            "(3)^2 + (0)^2 <= (10)^2, hence (3,0) is a lattice point of L(10)\n",
            "(0)^2 + (4)^2 <= (10)^2, hence (0,4) is a lattice point of L(10)\n",
            "(4)^2 + (0)^2 <= (10)^2, hence (4,0) is a lattice point of L(10)\n",
            "(0)^2 + (5)^2 <= (10)^2, hence (0,5) is a lattice point of L(10)\n",
            "(5)^2 + (0)^2 <= (10)^2, hence (5,0) is a lattice point of L(10)\n",
            "(0)^2 + (6)^2 <= (10)^2, hence (0,6) is a lattice point of L(10)\n",
            "(6)^2 + (0)^2 <= (10)^2, hence (6,0) is a lattice point of L(10)\n",
            "(0)^2 + (7)^2 <= (10)^2, hence (0,7) is a lattice point of L(10)\n",
            "(7)^2 + (0)^2 <= (10)^2, hence (7,0) is a lattice point of L(10)\n",
            "(0)^2 + (8)^2 <= (10)^2, hence (0,8) is a lattice point of L(10)\n",
            "(8)^2 + (0)^2 <= (10)^2, hence (8,0) is a lattice point of L(10)\n",
            "(0)^2 + (9)^2 <= (10)^2, hence (0,9) is a lattice point of L(10)\n",
            "(9)^2 + (0)^2 <= (10)^2, hence (9,0) is a lattice point of L(10)\n",
            "(0)^2 + (10)^2 <= (10)^2, hence (0,10) is a lattice point of L(10)\n",
            "(10)^2 + (0)^2 <= (10)^2, hence (10,0) is a lattice point of L(10)\n",
            "(1)^2 + (1)^2 <= (10)^2, hence (1,1) is a lattice point of L(10)\n",
            "(1)^2 + (2)^2 <= (10)^2, hence (1,2) is a lattice point of L(10)\n",
            "(2)^2 + (1)^2 <= (10)^2, hence (2,1) is a lattice point of L(10)\n",
            "(1)^2 + (3)^2 <= (10)^2, hence (1,3) is a lattice point of L(10)\n",
            "(3)^2 + (1)^2 <= (10)^2, hence (3,1) is a lattice point of L(10)\n",
            "(1)^2 + (4)^2 <= (10)^2, hence (1,4) is a lattice point of L(10)\n",
            "(4)^2 + (1)^2 <= (10)^2, hence (4,1) is a lattice point of L(10)\n",
            "(1)^2 + (5)^2 <= (10)^2, hence (1,5) is a lattice point of L(10)\n",
            "(5)^2 + (1)^2 <= (10)^2, hence (5,1) is a lattice point of L(10)\n",
            "(1)^2 + (6)^2 <= (10)^2, hence (1,6) is a lattice point of L(10)\n",
            "(6)^2 + (1)^2 <= (10)^2, hence (6,1) is a lattice point of L(10)\n",
            "(1)^2 + (7)^2 <= (10)^2, hence (1,7) is a lattice point of L(10)\n",
            "(7)^2 + (1)^2 <= (10)^2, hence (7,1) is a lattice point of L(10)\n",
            "(1)^2 + (8)^2 <= (10)^2, hence (1,8) is a lattice point of L(10)\n",
            "(8)^2 + (1)^2 <= (10)^2, hence (8,1) is a lattice point of L(10)\n",
            "(1)^2 + (9)^2 <= (10)^2, hence (1,9) is a lattice point of L(10)\n",
            "(9)^2 + (1)^2 <= (10)^2, hence (9,1) is a lattice point of L(10)\n",
            "(2)^2 + (2)^2 <= (10)^2, hence (2,2) is a lattice point of L(10)\n",
            "(2)^2 + (3)^2 <= (10)^2, hence (2,3) is a lattice point of L(10)\n",
            "(3)^2 + (2)^2 <= (10)^2, hence (3,2) is a lattice point of L(10)\n",
            "(2)^2 + (4)^2 <= (10)^2, hence (2,4) is a lattice point of L(10)\n",
            "(4)^2 + (2)^2 <= (10)^2, hence (4,2) is a lattice point of L(10)\n",
            "(2)^2 + (5)^2 <= (10)^2, hence (2,5) is a lattice point of L(10)\n",
            "(5)^2 + (2)^2 <= (10)^2, hence (5,2) is a lattice point of L(10)\n",
            "(2)^2 + (6)^2 <= (10)^2, hence (2,6) is a lattice point of L(10)\n",
            "(6)^2 + (2)^2 <= (10)^2, hence (6,2) is a lattice point of L(10)\n",
            "(2)^2 + (7)^2 <= (10)^2, hence (2,7) is a lattice point of L(10)\n",
            "(7)^2 + (2)^2 <= (10)^2, hence (7,2) is a lattice point of L(10)\n",
            "(2)^2 + (8)^2 <= (10)^2, hence (2,8) is a lattice point of L(10)\n",
            "(8)^2 + (2)^2 <= (10)^2, hence (8,2) is a lattice point of L(10)\n",
            "(2)^2 + (9)^2 <= (10)^2, hence (2,9) is a lattice point of L(10)\n",
            "(9)^2 + (2)^2 <= (10)^2, hence (9,2) is a lattice point of L(10)\n",
            "(3)^2 + (3)^2 <= (10)^2, hence (3,3) is a lattice point of L(10)\n",
            "(3)^2 + (4)^2 <= (10)^2, hence (3,4) is a lattice point of L(10)\n",
            "(4)^2 + (3)^2 <= (10)^2, hence (4,3) is a lattice point of L(10)\n",
            "(3)^2 + (5)^2 <= (10)^2, hence (3,5) is a lattice point of L(10)\n",
            "(5)^2 + (3)^2 <= (10)^2, hence (5,3) is a lattice point of L(10)\n",
            "(3)^2 + (6)^2 <= (10)^2, hence (3,6) is a lattice point of L(10)\n",
            "(6)^2 + (3)^2 <= (10)^2, hence (6,3) is a lattice point of L(10)\n",
            "(3)^2 + (7)^2 <= (10)^2, hence (3,7) is a lattice point of L(10)\n",
            "(7)^2 + (3)^2 <= (10)^2, hence (7,3) is a lattice point of L(10)\n",
            "(3)^2 + (8)^2 <= (10)^2, hence (3,8) is a lattice point of L(10)\n",
            "(8)^2 + (3)^2 <= (10)^2, hence (8,3) is a lattice point of L(10)\n",
            "(3)^2 + (9)^2 <= (10)^2, hence (3,9) is a lattice point of L(10)\n",
            "(9)^2 + (3)^2 <= (10)^2, hence (9,3) is a lattice point of L(10)\n",
            "(4)^2 + (4)^2 <= (10)^2, hence (4,4) is a lattice point of L(10)\n",
            "(4)^2 + (5)^2 <= (10)^2, hence (4,5) is a lattice point of L(10)\n",
            "(5)^2 + (4)^2 <= (10)^2, hence (5,4) is a lattice point of L(10)\n",
            "(4)^2 + (6)^2 <= (10)^2, hence (4,6) is a lattice point of L(10)\n",
            "(6)^2 + (4)^2 <= (10)^2, hence (6,4) is a lattice point of L(10)\n",
            "(4)^2 + (7)^2 <= (10)^2, hence (4,7) is a lattice point of L(10)\n",
            "(7)^2 + (4)^2 <= (10)^2, hence (7,4) is a lattice point of L(10)\n",
            "(4)^2 + (8)^2 <= (10)^2, hence (4,8) is a lattice point of L(10)\n",
            "(8)^2 + (4)^2 <= (10)^2, hence (8,4) is a lattice point of L(10)\n",
            "(4)^2 + (9)^2 <= (10)^2, hence (4,9) is a lattice point of L(10)\n",
            "(9)^2 + (4)^2 <= (10)^2, hence (9,4) is a lattice point of L(10)\n",
            "(5)^2 + (5)^2 <= (10)^2, hence (5,5) is a lattice point of L(10)\n",
            "(5)^2 + (6)^2 <= (10)^2, hence (5,6) is a lattice point of L(10)\n",
            "(6)^2 + (5)^2 <= (10)^2, hence (6,5) is a lattice point of L(10)\n",
            "(5)^2 + (7)^2 <= (10)^2, hence (5,7) is a lattice point of L(10)\n",
            "(7)^2 + (5)^2 <= (10)^2, hence (7,5) is a lattice point of L(10)\n",
            "(5)^2 + (8)^2 <= (10)^2, hence (5,8) is a lattice point of L(10)\n",
            "(8)^2 + (5)^2 <= (10)^2, hence (8,5) is a lattice point of L(10)\n",
            "(6)^2 + (6)^2 <= (10)^2, hence (6,6) is a lattice point of L(10)\n",
            "(6)^2 + (7)^2 <= (10)^2, hence (6,7) is a lattice point of L(10)\n",
            "(7)^2 + (6)^2 <= (10)^2, hence (7,6) is a lattice point of L(10)\n",
            "(6)^2 + (8)^2 <= (10)^2, hence (6,8) is a lattice point of L(10)\n",
            "(8)^2 + (6)^2 <= (10)^2, hence (8,6) is a lattice point of L(10)\n",
            "(7)^2 + (7)^2 <= (10)^2, hence (7,7) is a lattice point of L(10)\n",
            "The number of lattice points in L(10): 90\n"
          ]
        }
      ]
    },
    {
      "cell_type": "code",
      "source": [
        "'''\n",
        "function uses nested for loop and if statements to search for numbers between [0,r]\n",
        "prints the numbers (a,b) such that a^2 + b^2 <= r^2\n",
        "returns the number of lattice points in a area of r radius\n",
        "'''\n",
        "def latticeCalc(r):\n",
        "  counter = 0     # used for keeping count of how many pair (a,b) exists such that a^2 + b^2 <= r^2\n",
        "  for x in range(0, r+1):\n",
        "        for y in range(x, r+1):\n",
        "            if x**2 + y**2 <= r**2:    \n",
        "              countplus = 0  \n",
        "              if x == 0 and y == 0:\n",
        "                countplus += 1\n",
        "              else:\n",
        "                if x != 0: countplus += 2 \n",
        "                if y != 0: countplus += 2\n",
        "                if x != y: countplus *= 2\n",
        "\n",
        "              print(\"({},{})\".format(x,y))\n",
        "              counter += countplus\n",
        "            \n",
        "  print(\"The number of lattice points in L({:d}): {:d}\".format(r,counter))\n",
        "latticeCalc(2)"
      ],
      "metadata": {
        "id": "XzN_CaDWNLSZ",
        "outputId": "a6f95e45-672d-4227-c20b-3c7dea901217",
        "colab": {
          "base_uri": "https://localhost:8080/"
        }
      },
      "execution_count": 26,
      "outputs": [
        {
          "output_type": "stream",
          "name": "stdout",
          "text": [
            "(0,0)\n",
            "(0,1)\n",
            "(0,2)\n",
            "(1,1)\n",
            "The number of lattice points in L(2): 7\n"
          ]
        }
      ]
    },
    {
      "cell_type": "code",
      "source": [
        "import math\n",
        "def errorCalc(r):\n",
        "  area = math.pi * (r**2)\n",
        "  counter = 0 \n",
        "  error = 0\n",
        "  for x in range(0, r+1):\n",
        "        for y in range(x, r+1): \n",
        "            if x**2 + y**2 <= r**2 and x != y:\n",
        "              counter += 2\n",
        "            elif x**2 + y**2 <= r**2 and x == y:\n",
        "              counter += 1\n",
        "         \n",
        "  error = area - counter\n",
        "  #print(error)\n",
        "  return error\n",
        "\n",
        "for r in range(1,500,50): \n",
        "  print(errorCalc(r+1)/(r+1)-errorCalc(r)/r)\n",
        "\n",
        "# slope of relative error is constant => error grows linearly proportional to R\n"
      ],
      "metadata": {
        "colab": {
          "base_uri": "https://localhost:8080/"
        },
        "id": "C9gj-O-T5Ckj",
        "outputId": "95d565c0-146f-4bcb-da24-80ee466ae4ea"
      },
      "execution_count": 33,
      "outputs": [
        {
          "output_type": "stream",
          "name": "stdout",
          "text": [
            "3.141592653589793\n",
            "2.354639410754203\n",
            "2.2911752589091634\n",
            "2.4084974984833707\n",
            "2.3834280311573934\n",
            "2.336290054462552\n",
            "2.3613017909025302\n",
            "2.3479268286739625\n",
            "2.337886744233856\n",
            "2.3499889410925334\n"
          ]
        }
      ]
    }
  ]
}