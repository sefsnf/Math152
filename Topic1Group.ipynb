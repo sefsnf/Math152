{
  "nbformat": 4,
  "nbformat_minor": 0,
  "metadata": {
    "colab": {
      "provenance": [],
      "include_colab_link": true
    },
    "kernelspec": {
      "name": "python3",
      "display_name": "Python 3"
    },
    "language_info": {
      "name": "python"
    }
  },
  "cells": [
    {
      "cell_type": "markdown",
      "metadata": {
        "id": "view-in-github",
        "colab_type": "text"
      },
      "source": [
        "<a href=\"https://colab.research.google.com/github/sefsnf/Math152/blob/main/Topic1Group.ipynb\" target=\"_parent\"><img src=\"https://colab.research.google.com/assets/colab-badge.svg\" alt=\"Open In Colab\"/></a>"
      ]
    },
    {
      "cell_type": "markdown",
      "source": [
        "# Exploration 1 Guide\n",
        "\n",
        "Choose one (yes, only one) of the following topics for your exploration.  These are small group projects -- there should be no more than 5 people in each group.  Every person in the group will receive the same grade, and please try to contribute to your group!\n",
        "\n",
        "You may use any programming techniques we have discussed in Notebooks 1, 2, and 3.  Please do not use other \"fancy\" techniques, creating custom classes, using dictionary comprehension, importing highly specialized packages, etc.  Keep it simple please!\n",
        "\n",
        "Your notebook should be a report containing both text cells and well-\n",
        "documented code cells. Your text cells should include a heading (title) and\n",
        "short (one paragraph) introduction, and should lead the reader through your\n",
        "explorations. You should write text summaries of what you found, in clear\n",
        "and precise English. Before long code blocks, you should introduce the code,\n",
        "and tell the reader what it does, and why you are doing it.  At the end, you should write a little conclusion, or at least get to a nice stopping point.\n",
        "\n",
        "There are a lot of papers written about these topics. You shouldn’t\n",
        "need to look at these papers (maybe one or two, if you want), but if you\n",
        "do use results you must cite them. For citation, please provide complete\n",
        "bibliographic information in your notebook, and web links to papers online.\n",
        "Limit your references to published papers and preprints, by looking at (1)\n",
        "papers published in scholarly math journals, (2) papers published by scien-\n",
        "tific journals, e.g., Annals of Mathematics or a popular journal like Quanta, and (3) preprints from arxiv.org. If you want to look at Wikipedia, it’s fine, but please use it primarily for the references (typically given at the bottom of the Wikipedia page.\n",
        "\n",
        "You may look things up, but do not just copy and paste code from elsewhere, especially without citation.  If you do not cite your sources, that is a violation of academic integrity.  If you get completely stuck, and look up someone else's code (or use a computer code-generating tool), please describe what happened -- where you got stuck and where the code comes from (URL, print source, etc.)  Just **be honest**!\n",
        "\n",
        "Your submission should be a link to a ipynb notebook stored on a GitHub directory, just like your NB1 assignment."
      ],
      "metadata": {
        "id": "KjqXfRJqJoc-"
      }
    },
    {
      "cell_type": "markdown",
      "source": [
        "# Topic 1:  Gauss's Circle Conjecture\n",
        "\n",
        "Consider a circle of radius $R$ centered at the origin $(0,0)$.  So the area of the circle is $A(R) = \\pi R^2$.  A **lattice point** is a point $(a,b)$ with integer coordinates, i.e., $a$ and $b$ are integers.  Let $L(R)$ be the number of lattice points contained inside the circle of radius $R$.  In other words, $L(R)$ is the number of points $(a,b)$ with integers $a,b$ satisfying $a^2 + b^2 \\leq R^2$.  (Note I've used a less-than-or-equal here).\n",
        "\n",
        "One might suspect, as Gauss did, that $A(R)$ is pretty close to $L(R)$.  Explore this using Python.  In particular, explore the following questions:\n",
        "\n",
        "1.  (Must do:) Write a function to compute $L(R)$.  Try to make it compute $L(R)$ quickly, if you can, even if $R$ is big (like 1000 perhaps, or maybe much bigger).  But be careful... don't ask your computer to try $L(1000000)$ until you try some smaller inputs and see how long it will take.  \n",
        "\n",
        "2.  Analyze the \"error\" $E(R) = A(R) - L(R)$.  How does this grow, relative to the size of $R$?  Does it grow as fast as $R^2$?  As fast as $R$?  As fast as $\\sqrt{R}$?  As fast as $R^{2/3}$?  How can you use Python, and your math skills, to carry out this analysis?  Conduct this analysis with a combination of Python code and text blocks to explain what you're doing.\n",
        "\n",
        "3.  There are many variants on this topic.  For example, spheres in 3-d instead of circles.  Or ellipses instead of circles.  Or different kinds of lattices besides the usual \"square grid\" of integer-coordinates.  Try one variant, and describe your findings.\n",
        "\n",
        "\n"
      ],
      "metadata": {
        "id": "q6q_MdphJvLl"
      }
    },
    {
      "cell_type": "markdown",
      "source": [
        "# Part 1"
      ],
      "metadata": {
        "id": "PdeXasLrTMOS"
      }
    },
    {
      "cell_type": "markdown",
      "source": [
        "Our method here is to itterate through the points $\\{(x,y) \\in {\\mathbb R}^2 \\mid 0\\leq x \\leq y \\leq r\\}$ using nested for loops. We count each point that satisfies $$x^2+y^2 \\leq r^2$$ and use some of this problem's symmetry to count all other additional points in the other 7 wedges.\n",
        "Note this method only works because circles are 8 times rotationally symmetric. "
      ],
      "metadata": {
        "id": "DzXfGsMhcKmN"
      }
    },
    {
      "cell_type": "code",
      "source": [
        "'''\n",
        "function uses nested for loop and if statements to search for numbers on a triangle 0<=x<=y\n",
        "prints the numbers (a,b) such that a^2 + b^2 <= r^2\n",
        "returns the number of lattice points in a area of r radius\n",
        "'''\n",
        "def latticeCalc(r):\n",
        "  counter = 0     # used for keeping count of how many pair (a,b) exists such that a^2 + b^2 <= r^2\n",
        "  for x in range(0, r+1):\n",
        "        for y in range(x, r+1):\n",
        "            if x**2 + y**2 <= r**2:    \n",
        "              countplus = 0  \n",
        "              if x == 0 and y == 0: countplus += 1 # there is only precisely the identity symmetry for this point\n",
        "              else:\n",
        "                if x != 0: countplus += 2  # negation of x yields distinct points\n",
        "                if y != 0: countplus += 2  # negation of y yields distinct points\n",
        "                if x != y: countplus *= 2  # transposition of x,y yields distinct points\n",
        "\n",
        "              print(\"The point ({},{}) has {} symmetries.\".format(x,y, countplus))\n",
        "              counter += countplus\n",
        "  \n",
        "  print(\"'Symmetries' of (a,b) may include distinct (b,a) with possible negations of components, not including identity symmetry.\")\n",
        "\n",
        "  print(\"The number of lattice points in L({:d}): {:d}\".format(r,counter))\n",
        "latticeCalc(2)"
      ],
      "metadata": {
        "colab": {
          "base_uri": "https://localhost:8080/"
        },
        "id": "XzN_CaDWNLSZ",
        "outputId": "24c6e42c-5a2f-4ffc-c51b-a979b0d0c887"
      },
      "execution_count": 37,
      "outputs": [
        {
          "output_type": "stream",
          "name": "stdout",
          "text": [
            "The point (0,0) has 1 symmetries.\n",
            "The point (0,1) has 4 symmetries.\n",
            "The point (0,2) has 4 symmetries.\n",
            "The point (1,1) has 4 symmetries.\n",
            "Symmetries of (a,b) may include distinct (b,a) with possible negations of components.\n",
            "The number of lattice points in L(2): 13\n"
          ]
        }
      ]
    },
    {
      "cell_type": "markdown",
      "source": [
        "# Part 2"
      ],
      "metadata": {
        "id": "Xw7eKsFdTP0Y"
      }
    },
    {
      "cell_type": "markdown",
      "source": [
        "To analyize error we first compute the error for a given $r$."
      ],
      "metadata": {
        "id": "CAbfH7-aQ1ib"
      }
    },
    {
      "cell_type": "code",
      "source": [
        "import math\n",
        "def errorCalc(r):\n",
        "  area = math.pi * (r**2)\n",
        "  counter = 0 \n",
        "  error = 0\n",
        "  for x in range(0, r+1):\n",
        "        for y in range(x, r+1): \n",
        "            if x**2 + y**2 <= r**2 and x != y:\n",
        "              counter += 2\n",
        "            elif x**2 + y**2 <= r**2 and x == y:\n",
        "              counter += 1\n",
        "         \n",
        "  error = area - counter\n",
        "  #print(error)\n",
        "  return error\n"
      ],
      "metadata": {
        "id": "C9gj-O-T5Ckj"
      },
      "execution_count": 39,
      "outputs": []
    },
    {
      "cell_type": "markdown",
      "source": [
        "We use the following code to deduce that the error grows linearly as $r$ grows."
      ],
      "metadata": {
        "id": "4w1iJTlYQ5gT"
      }
    },
    {
      "cell_type": "code",
      "source": [
        "for r in range(100,500,50): \n",
        "  print(errorCalc(r+1)/(r+1)-errorCalc(r)/r)"
      ],
      "metadata": {
        "colab": {
          "base_uri": "https://localhost:8080/"
        },
        "id": "QWYDjpDHRO5Z",
        "outputId": "a27be470-64e1-424a-e9bb-028852be321d"
      },
      "execution_count": 40,
      "outputs": [
        {
          "output_type": "stream",
          "name": "stdout",
          "text": [
            "2.4341669110155237\n",
            "2.378722896415411\n",
            "2.330846384933068\n",
            "2.4018476336693766\n",
            "2.372766518484582\n",
            "2.346248738246004\n",
            "2.373868214687036\n",
            "2.3486929245925694\n"
          ]
        }
      ]
    },
    {
      "cell_type": "markdown",
      "source": [
        "The difference between relative errors seems to remain constant, so the growth of error is linear."
      ],
      "metadata": {
        "id": "7UD7f6oER0bS"
      }
    },
    {
      "cell_type": "markdown",
      "source": [
        "# Part 3"
      ],
      "metadata": {
        "id": "tY9W47edTRM6"
      }
    },
    {
      "cell_type": "markdown",
      "source": [
        "For the first new lattice, we use a path graph generated by adjacent points on a golden ratio spiral. The golden ratio spiral yeilds a nice distribution of points in polar space, and seems to be a nice normalized analoge to Monte Carlo integration."
      ],
      "metadata": {
        "id": "k-H-d2nnU_c5"
      }
    },
    {
      "cell_type": "code",
      "source": [
        "import math\n",
        "def goldenlatticeCalc(r):\n",
        "  phi = (1 - math.sqrt(5)) / 2 \n",
        "  pi = math.pi\n",
        "  count = 0\n",
        "  for a in range(1,int(4*r**2)):\n",
        "    mag = math.sqrt(a/pi)\n",
        "    xa = mag * math.cos(2*pi*phi*a)\n",
        "    ya = mag * math.sin(2*pi*phi*a)\n",
        "    if (xa**2 + ya**2 <= r**2):\n",
        "      count += 1\n",
        "\n",
        "  return count\n"
      ],
      "metadata": {
        "id": "Zg7UDHBvUQ3x"
      },
      "execution_count": 70,
      "outputs": []
    },
    {
      "cell_type": "code",
      "source": [
        "for r in range(100,500,50): \n",
        "  print( r**2*math.pi - goldenlatticeCalc(r) )"
      ],
      "metadata": {
        "colab": {
          "base_uri": "https://localhost:8080/"
        },
        "id": "Ug5-xiqqWE_p",
        "outputId": "5439edcb-d400-47da-e651-1ca49b034933"
      },
      "execution_count": 62,
      "outputs": [
        {
          "output_type": "stream",
          "name": "stdout",
          "text": [
            "0.9265358979318989\n",
            "0.8347057703504106\n",
            "0.7061435917275958\n",
            "0.5408493620634545\n",
            "0.3388230814016424\n",
            "0.10006474965484813\n",
            "0.8245743669103831\n",
            "0.512351933051832\n"
          ]
        }
      ]
    },
    {
      "cell_type": "markdown",
      "source": [
        "\n",
        "\n",
        "We consider radii of the form $r = \\sqrt{\\frac{C}{\\pi}}$ where $C$ is some fixed integer. \n",
        "Because points are of the form $p_n=(M_n\\cos(\\theta_n),M_n\\sin(\\theta_n))$ for $M_n = \\sqrt{\\frac{n}{\\pi}}$, we realize $|p_n|=M_n\\leq r$ when $n \\leq \\pi r^2$. Thus, $a\\in [1,⌈\\pi r^2⌉]$ and we obtain exact solutions for area."
      ],
      "metadata": {
        "id": "8YfZpmzzVDdx"
      }
    },
    {
      "cell_type": "code",
      "source": [
        "r = math.sqrt(5/math.pi)\n",
        "print( r**2*math.pi - goldenlatticeCalc(r) ) # this error should be just floating point error"
      ],
      "metadata": {
        "colab": {
          "base_uri": "https://localhost:8080/"
        },
        "id": "Mkxj9lNBeGoF",
        "outputId": "99f5a0cc-44c7-46f3-a26c-f30fac5531ef"
      },
      "execution_count": 69,
      "outputs": [
        {
          "output_type": "stream",
          "name": "stdout",
          "text": [
            "8.881784197001252e-16\n"
          ]
        }
      ]
    },
    {
      "cell_type": "markdown",
      "source": [
        "Error of computing area otherwise lies on the interval $[0,1]$.\n",
        "If this method of sampling points didn't generalize so poorly to other integration techniques, one may mistake this as leading to a good way to numerically integrate non-vanishing functions over discs."
      ],
      "metadata": {
        "id": "yn-tA5g7ZJvn"
      }
    },
    {
      "cell_type": "markdown",
      "source": [
        "We next attempt Monte Carlo integration."
      ],
      "metadata": {
        "id": "rMQvP7OXd5nF"
      }
    },
    {
      "cell_type": "code",
      "source": [
        "import random\n",
        "def montecarlatticeCalc(r):\n",
        "  count = 0\n",
        "  for a in range(0,4*r**2):\n",
        "      xa = random.randint(-r, r)\n",
        "      ya = random.randint(-r, r)\n",
        "      if (xa**2 + ya**2 <= r**2):\n",
        "        count += 1\n",
        "\n",
        "  return count"
      ],
      "metadata": {
        "id": "37EXT3JKUhKn"
      },
      "execution_count": 72,
      "outputs": []
    },
    {
      "cell_type": "code",
      "source": [
        "for r in range(10,50,5): \n",
        "  print(montecarlatticeCalc(r+1)/(r+1)-montecarlatticeCalc(r)/r)"
      ],
      "metadata": {
        "colab": {
          "base_uri": "https://localhost:8080/"
        },
        "id": "sYfuqLrhfVX9",
        "outputId": "7eab45e6-ada7-4e4b-963b-c74fb0dd222f"
      },
      "execution_count": 76,
      "outputs": [
        {
          "output_type": "stream",
          "name": "stdout",
          "text": [
            "2.3000000000000007\n",
            "2.2791666666666686\n",
            "1.952380952380949\n",
            "4.113846153846154\n",
            "0.573118279569897\n",
            "1.5063492063491992\n",
            "2.8981707317073244\n",
            "6.133816425120784\n"
          ]
        }
      ]
    }
  ]
}