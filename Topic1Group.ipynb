{
  "nbformat": 4,
  "nbformat_minor": 0,
  "metadata": {
    "colab": {
      "provenance": [],
      "collapsed_sections": [
        "4Fw0GvCW9Yzd",
        "3tSWnY1P9hLU",
        "i5uagdUc9fxd"
      ],
      "include_colab_link": true
    },
    "kernelspec": {
      "name": "python3",
      "display_name": "Python 3"
    },
    "language_info": {
      "name": "python"
    }
  },
  "cells": [
    {
      "cell_type": "markdown",
      "metadata": {
        "id": "view-in-github",
        "colab_type": "text"
      },
      "source": [
        "<a href=\"https://colab.research.google.com/github/sefsnf/Math152/blob/main/Topic1Group.ipynb\" target=\"_parent\"><img src=\"https://colab.research.google.com/assets/colab-badge.svg\" alt=\"Open In Colab\"/></a>"
      ]
    },
    {
      "cell_type": "markdown",
      "source": [
        "# ***Topic 1 Gauss's Circle Cojecture***"
      ],
      "metadata": {
        "id": "NxX2mDU-VjFA"
      }
    },
    {
      "cell_type": "markdown",
      "source": [
        "###Part 1"
      ],
      "metadata": {
        "id": "4Fw0GvCW9Yzd"
      }
    },
    {
      "cell_type": "markdown",
      "source": [
        "In this exploration project me and my fellow classmates set out to write a program that would not only return the number of lattice points in a circle of $r$ raduis but would also use a seperate cell to compute and return the error associated with it. Using notebook 1 and 2 as reference my group was able to use a sequence of for loops and if statements to successfully compute the lattice points and error. Furthermore we went beyond the a simple circle in two dimensions and attempted to calculate the number of lattice points in a 3 dimensions circle with radius r."
      ],
      "metadata": {
        "id": "RbY7qQrbVySh"
      }
    },
    {
      "cell_type": "markdown",
      "source": [
        "Our method here is to itterate through the points $\\{(x,y) \\in {\\mathbb R}^2 \\mid 0\\leq x \\leq y \\leq r\\}$ using nested for-loops. We count each point that satisfies $$x^2+y^2 \\leq r^2$$ and use some of this problem's symmetry to count all other additional points in the other 7 wedges.\n",
        "Note this method only works because circles are 8 times rotationally symmetric. "
      ],
      "metadata": {
        "id": "3GF75DK1V0kz"
      }
    },
    {
      "cell_type": "code",
      "source": [
        "def latticeCalc(r):\n",
        "  counter = 0     # used for keeping count of how many pair (a,b) exists such that a^2 + b^2 <= r^2\n",
        "  for x in range(0, int(r+1)):\n",
        "        for y in range(x, int(r+1)):\n",
        "            if x**2 + y**2 <= r**2:    \n",
        "              countplus = 0  \n",
        "              if x == 0 and y == 0: countplus += 1 # there is only precisely the identity symmetry for this point\n",
        "              else:\n",
        "                if x != 0: countplus += 2  # negation of x yields distinct points\n",
        "                if y != 0: countplus += 2  # negation of y yields distinct points\n",
        "                if x != y: countplus *= 2  # transposition of x,y yields distinct points\n",
        "\n",
        "              #print(\"The point ({},{}) has {} symmetries.\".format(x,y, countplus))\n",
        "              counter += countplus\n",
        "  \n",
        "  #print(\"'Symmetries' of (a,b) may include distinct (b,a) with possible negations of components, not including identity symmetry.\")\n",
        "\n",
        "  #print(\"The number of lattice points in L({:d}): {:d}\".format(r,counter))\n",
        "  return counter\n"
      ],
      "metadata": {
        "id": "RPDRgjicislh"
      },
      "execution_count": null,
      "outputs": []
    },
    {
      "cell_type": "code",
      "source": [
        "print(latticeCalc(3))\n",
        "print(latticeCalc(-2))\n",
        "print(latticeCalc(2))\n",
        "print(latticeCalc(45))"
      ],
      "metadata": {
        "colab": {
          "base_uri": "https://localhost:8080/"
        },
        "id": "azA0ZdwC8vvu",
        "outputId": "fc35d490-7248-4d4a-a683-420f3008a8b6"
      },
      "execution_count": null,
      "outputs": [
        {
          "output_type": "stream",
          "name": "stdout",
          "text": [
            "29\n",
            "0\n",
            "13\n",
            "6361\n"
          ]
        }
      ]
    },
    {
      "cell_type": "markdown",
      "source": [
        "The key to this function here is the **if x^2 + y^2 <= r^2 and x != y** and  \n",
        "**if x^2 + y^2 <= r^2 and x == y**. The first part finds all numbers (x,y) such that **x^2+y^2** is less than or equal r^2 but without the **x != y and x == y** the function would print (0,0) twice, (1,1) twice, etc. To fix this we included and x != y to find when x and y are equal to eachother. The reason for this was because if a + b = c then we know b + a = c also so if x^2 + y^2 <= r^2 then y^2 + x^2 <= r^2. Therefore when we find (x,y) satisfying **if x^2 + y^2 <= r^2** we can automatically say (y,x) also does."
      ],
      "metadata": {
        "id": "_Oz4-4fcYR53"
      }
    },
    {
      "cell_type": "markdown",
      "source": [
        "###Part 2"
      ],
      "metadata": {
        "id": "3tSWnY1P9hLU"
      }
    },
    {
      "cell_type": "markdown",
      "source": [
        "We compare the proportion of our error with the expected growth and search for trends. We are interested in rates that tend around non-zero constants. "
      ],
      "metadata": {
        "id": "W_pO6iC7RzZL"
      }
    },
    {
      "cell_type": "code",
      "source": [
        "import math # extends our list of mathematical functions\n",
        "def errorCalc(r):\n",
        "  return abs(math.pi*r**2 - latticeCalc(r))   \n",
        "\n",
        "print(\"---------0.5---------\")\n",
        "for r in list(range(100,2000,200)): # compare growths\n",
        "  print(errorCalc(r)/(r**0.5)) \n",
        "print(\"---------0.6666---------\")\n",
        "for r in list(range(100,2000,200)): \n",
        "  print(errorCalc(r)/(r**(2/3))) \n",
        "print(\"---------1---------\")\n",
        "for r in list(range(100,2000,200)): \n",
        "  print(errorCalc(r)/(r)) \n",
        "print(\"---------2---------\")\n",
        "for r in list(range(100,2000,200)): \n",
        "  print(errorCalc(r)/(r**2)) \n"
      ],
      "metadata": {
        "id": "wCSRG-g1mEkJ",
        "colab": {
          "base_uri": "https://localhost:8080/"
        },
        "outputId": "464a7f9d-0442-408e-fa59-0782013490e8"
      },
      "execution_count": null,
      "outputs": [
        {
          "output_type": "stream",
          "name": "stdout",
          "text": [
            "---------0.5---------\n",
            "0.1073464102068101\n",
            "2.675373197997768\n",
            "2.1986539739827045\n",
            "3.152233494124624\n",
            "4.034980257740244\n",
            "1.993316935996111\n",
            "3.2889441222910727\n",
            "0.37362869242229313\n",
            "1.2070725084651175\n",
            "3.8651838763812845\n",
            "---------0.6666---------\n",
            "0.049825789894434674\n",
            "1.0340245012906144\n",
            "0.7804202882768883\n",
            "1.0578774815891931\n",
            "1.298576868647165\n",
            "0.6204082665047876\n",
            "0.9955565553265376\n",
            "0.11043117085984802\n",
            "0.34940185411206265\n",
            "1.0982753232840827\n",
            "---------1---------\n",
            "0.01073464102068101\n",
            "0.15446274360467213\n",
            "0.09832679489650764\n",
            "0.11914322714088485\n",
            "0.1344993419246748\n",
            "0.060100766954181546\n",
            "0.0912188975004336\n",
            "0.009647051356111963\n",
            "0.029275808530476163\n",
            "0.08867339955446751\n",
            "---------2---------\n",
            "0.0001073464102068101\n",
            "0.0005148758120155738\n",
            "0.00019665358979301526\n",
            "0.00017020461020126406\n",
            "0.00014944371324963868\n",
            "5.463706086743777e-05\n",
            "7.016838269264123e-05\n",
            "6.431367570741309e-06\n",
            "1.7221063841456566e-05\n",
            "4.667021029182501e-05\n"
          ]
        }
      ]
    },
    {
      "cell_type": "markdown",
      "source": [
        "It's very clear that for the $p=2$ experiment that our error does not grow at a quadratic rate with $r$.\n",
        "Both experiments for $\\frac{1}{2}, \\frac{2}{3}$ demonstrate stability of the sequence of errors $\\frac{e_{n+1}}{{n}^p}$. The sequence doesn't seem to blow up to infinity or vanish. We think the order of growth must be in the ballpark of $\\frac{1}{2}, \\frac{2}{3}$."
      ],
      "metadata": {
        "id": "DM4WaZkHKSzH"
      }
    },
    {
      "cell_type": "markdown",
      "source": [
        "###Part 3"
      ],
      "metadata": {
        "id": "i5uagdUc9fxd"
      }
    },
    {
      "cell_type": "markdown",
      "source": [
        "I misread this prompt, so we ended up examining a few of these variants. Namely, the 3D case, and 2 varients on lattices. "
      ],
      "metadata": {
        "id": "sob-J1K7hFJC"
      }
    },
    {
      "cell_type": "markdown",
      "source": [
        "####Spheres"
      ],
      "metadata": {
        "id": "RqwHDvp2g8zN"
      }
    },
    {
      "cell_type": "markdown",
      "source": [
        "We transform our code to count the lattice points of a sphere by considering slices of a sphere at every $z\\in \\mathbb Z$. The total number of lattice points is the sum of lattice points of these slices. We employ the bilateral symmetry of the sphere to halve the number of slices we need to compute over."
      ],
      "metadata": {
        "id": "yV756cOMUzyL"
      }
    },
    {
      "cell_type": "code",
      "source": [
        "def latticeCalcSphere(r):\n",
        "  counter = latticeCalc(r)         \n",
        "  for z in range(1,int(r+1)):          \n",
        "    counter += 2*latticeCalc(math.sqrt(r**2-z**2))\n",
        "  return counter"
      ],
      "metadata": {
        "id": "0CuvCPtWHbG7"
      },
      "execution_count": null,
      "outputs": []
    },
    {
      "cell_type": "code",
      "source": [
        "def errorCalc(r):\n",
        "  return abs(4*math.pi*r**3/3 - latticeCalcSphere(r))\n",
        "\n",
        "print(\"---------0.5---------\")\n",
        "for r in list(range(10,100,10)): # compare growths\n",
        "  print(errorCalc(r)/(r**0.5)) \n",
        "print(\"---------0.6666---------\")\n",
        "for r in list(range(10,100,10)): \n",
        "  print(errorCalc(r)/(r**(2/3))) \n",
        "print(\"---------1---------\")\n",
        "for r in list(range(10,100,10)):\n",
        "  print(errorCalc(r)/(r)) \n",
        "print(\"---------2---------\")\n",
        "for r in list(range(10,100,10)): \n",
        "  print(errorCalc(r)/(r**2)) "
      ],
      "metadata": {
        "colab": {
          "base_uri": "https://localhost:8080/"
        },
        "id": "3kXiobrTB32d",
        "outputId": "daee1092-68a4-4c40-e465-00d6f0f5d7e0"
      },
      "execution_count": null,
      "outputs": [
        {
          "output_type": "stream",
          "name": "stdout",
          "text": [
            "---------0.5---------\n",
            "6.258212248616115\n",
            "24.445061463060362\n",
            "8.824819896540749\n",
            "50.845172512759746\n",
            "41.54614354084566\n",
            "93.16903396540093\n",
            "55.702463001923796\n",
            "113.99305174211948\n",
            "21.404328472547437\n",
            "---------0.6666---------\n",
            "4.26367037146355\n",
            "14.837229042622555\n",
            "5.006324254129548\n",
            "27.494113846036182\n",
            "21.645571153295304\n",
            "47.088304238034425\n",
            "27.43835424813484\n",
            "54.9157242908204\n",
            "10.111009586745704\n",
            "---------1---------\n",
            "1.979020478639086\n",
            "5.4660819145563435\n",
            "1.6111843077519248\n",
            "8.039327658225375\n",
            "5.8755119659763295\n",
            "12.028070564341032\n",
            "6.657717739028989\n",
            "12.7448106329015\n",
            "2.2562143253214244\n",
            "---------2---------\n",
            "0.19790204786390858\n",
            "0.27330409572781716\n",
            "0.05370614359173083\n",
            "0.20098319145563437\n",
            "0.11751023931952659\n",
            "0.20046784273901722\n",
            "0.09511025341469985\n",
            "0.15931013291126875\n",
            "0.025069048059126936\n"
          ]
        }
      ]
    },
    {
      "cell_type": "markdown",
      "source": [
        "This time around, it seems clear that the experiment for $p=1$ was the most stable. We think the error grows quadratically faster than for the circle problem. This makes sense as for the sphere problem with radius $r$, we accumulate the error from every $⌈r⌉$ lattice calculations."
      ],
      "metadata": {
        "id": "pwG7ICnwPfIz"
      }
    },
    {
      "cell_type": "markdown",
      "source": [
        "####Other \"Lattices\""
      ],
      "metadata": {
        "id": "FUWBygxIGUQV"
      }
    },
    {
      "cell_type": "markdown",
      "source": [
        "For much of this exploration there is an emphasis on measuring the area of sets soley by counting the distribution of lattice points populating it. Thus, here we aim to preserve that any nice subset of area 1 contains around 1 point. "
      ],
      "metadata": {
        "id": "F_zRM16mHxI1"
      }
    },
    {
      "cell_type": "markdown",
      "source": [
        "(Of course, the problem of the Gauss circle problem is the error analysis, the expression of explicit forms of the count, and their connections to deeper parts of number theory. ) "
      ],
      "metadata": {
        "id": "76P7On1ZIuGu"
      }
    },
    {
      "cell_type": "markdown",
      "source": [
        "##### Monte Carlo Sampling"
      ],
      "metadata": {
        "id": "_ks84ilmHn8U"
      }
    },
    {
      "cell_type": "markdown",
      "source": [
        "Rather than uniformly distributing points on the lattice points of $\\mathbb R^2$, we instead randomly distribute the points on a square containing our circle. Then we count how many points populate that circle. "
      ],
      "metadata": {
        "id": "rMQvP7OXd5nF"
      }
    },
    {
      "cell_type": "code",
      "source": [
        "import random\n",
        "def montecarlatticeCalc(r):\n",
        "  count = 0\n",
        "  for a in range(0,4*r**2):\n",
        "      xa = random.randint(-r, r)\n",
        "      ya = random.randint(-r, r)\n",
        "      if (xa**2 + ya**2 <= r**2):\n",
        "        count += 1\n",
        "\n",
        "  return count"
      ],
      "metadata": {
        "id": "37EXT3JKUhKn"
      },
      "execution_count": null,
      "outputs": []
    },
    {
      "cell_type": "markdown",
      "source": [
        "We examine similar in a way similar to before."
      ],
      "metadata": {
        "id": "QkSu1UmdJDsQ"
      }
    },
    {
      "cell_type": "code",
      "source": [
        "def errorCalc(r):\n",
        "  return abs(math.pi*r**2 - montecarlatticeCalc(r))\n",
        "\n",
        "print(\"---------0.5---------\")\n",
        "for r in list(range(10,500,50)): # compare growths\n",
        "  print(errorCalc(r)/(r**0.5)) \n",
        "print(\"---------0.6666---------\")\n",
        "for r in list(range(10,300,30)):\n",
        "  print(errorCalc(r)/(r**(2/3))) \n",
        "print(\"---------1---------\")\n",
        "for r in list(range(10,300,30)): \n",
        "  print(errorCalc(r)/(r)) \n",
        "print(\"---------2---------\")\n",
        "for r in list(range(10,300,30)): \n",
        "  print(errorCalc(r)/(r**2)) "
      ],
      "metadata": {
        "colab": {
          "base_uri": "https://localhost:8080/"
        },
        "id": "sYfuqLrhfVX9",
        "outputId": "2da781f4-0cde-4a99-f757-04c81bf6f837"
      },
      "execution_count": null,
      "outputs": [
        {
          "output_type": "stream",
          "name": "stdout",
          "text": [
            "---------0.5---------\n",
            "4.477552852909633\n",
            "41.92292141421772\n",
            "39.21316159317701\n",
            "31.683803176645135\n",
            "46.18167307573806\n",
            "70.05874892231213\n",
            "61.39974184278886\n",
            "64.8481905271011\n",
            "71.64620433519534\n",
            "51.89414899875496\n",
            "---------0.6666---------\n",
            "7.359390627538949\n",
            "8.425756490442929\n",
            "21.595770625500723\n",
            "14.478347259313567\n",
            "15.388950105985861\n",
            "22.14869539455678\n",
            "5.552066782257106\n",
            "19.814032102328785\n",
            "17.22415009148569\n",
            "15.744671168579979\n",
            "---------1---------\n",
            "2.6159265358979327\n",
            "3.6637061435917304\n",
            "2.840057179856948\n",
            "4.139265358979319\n",
            "4.307044966673129\n",
            "3.623574574366921\n",
            "2.7236568136396513\n",
            "4.327656517027274\n",
            "1.7581633974482538\n",
            "3.524514433713505\n",
            "---------2---------\n",
            "0.28159265358979324\n",
            "0.06034265358979326\n",
            "0.05526612297754823\n",
            "0.03199265358979319\n",
            "0.03023170684423117\n",
            "0.02061609108979326\n",
            "0.015221462454059106\n",
            "0.013266207308801658\n",
            "0.017272653589793015\n",
            "0.0171156127734666\n"
          ]
        }
      ]
    },
    {
      "cell_type": "markdown",
      "source": [
        "It seems now the error grows proportionally to $r$ and maybe $r^{2/3}$.\n",
        "(This surprised me. I expected the growth rate to be the same as for the normal lattice problem.)"
      ],
      "metadata": {
        "id": "TqRntn5xhtN7"
      }
    },
    {
      "cell_type": "markdown",
      "source": [
        "#####Polar Spiral Sampling"
      ],
      "metadata": {
        "id": "2q4_-BpvHq7V"
      }
    },
    {
      "cell_type": "markdown",
      "source": [
        "For the next new lattice, we points distributed uniformly on a golden ratio spiral. The golden ratio spiral yeilds a nice distribution of points in polar space, and from a distance seems to be a nice normalized analoge to Monte Carlo integration."
      ],
      "metadata": {
        "id": "k-H-d2nnU_c5"
      }
    },
    {
      "cell_type": "code",
      "source": [
        "import math\n",
        "def goldenlatticeCalc(r):\n",
        "  phi = (1 - math.sqrt(5)) / 2 \n",
        "  pi = math.pi\n",
        "  count = 0\n",
        "  for a in range(1,int(4*r**2)):\n",
        "    mag = math.sqrt(a/pi)\n",
        "    xa = mag * math.cos(2*pi*phi*a)\n",
        "    ya = mag * math.sin(2*pi*phi*a)\n",
        "    if (xa**2 + ya**2 <= r**2):\n",
        "      count += 1\n",
        "\n",
        "  return count\n"
      ],
      "metadata": {
        "id": "Zg7UDHBvUQ3x"
      },
      "execution_count": null,
      "outputs": []
    },
    {
      "cell_type": "markdown",
      "source": [
        "Unlike previous methods our error seems suspiciously small. We will analyze this in more detail in a moment. "
      ],
      "metadata": {
        "id": "SvrM4AS9Oi2a"
      }
    },
    {
      "cell_type": "code",
      "source": [
        "for r in range(100,500,50): # computing the absolute error directly.\n",
        "  print( r**2*math.pi - goldenlatticeCalc(r) )"
      ],
      "metadata": {
        "colab": {
          "base_uri": "https://localhost:8080/"
        },
        "id": "Ug5-xiqqWE_p",
        "outputId": "2fbd752e-a205-4c00-e82a-efa03478f49e"
      },
      "execution_count": null,
      "outputs": [
        {
          "output_type": "stream",
          "name": "stdout",
          "text": [
            "0.9265358979318989\n",
            "0.8347057703504106\n",
            "0.7061435917275958\n",
            "0.5408493620634545\n",
            "0.3388230814016424\n",
            "0.10006474965484813\n",
            "0.8245743669103831\n",
            "0.512351933051832\n"
          ]
        }
      ]
    },
    {
      "cell_type": "markdown",
      "source": [
        "\n",
        "\n",
        "We consider radii of the form $r = \\sqrt{\\frac{C}{\\pi}}$ where $C$ is some fixed integer. \n",
        "Because points are of the form $p_n=(M_n\\cos(\\theta_n),M_n\\sin(\\theta_n))$ for $M_n = \\sqrt{\\frac{n}{\\pi}}$, we realize $|p_n|=M_n\\leq r$ when $n \\leq \\pi r^2$. Thus, $n\\in [1,\\pi r^2] = [1,C]$ and we obtain exact solutions for area."
      ],
      "metadata": {
        "id": "8YfZpmzzVDdx"
      }
    },
    {
      "cell_type": "code",
      "source": [
        "r = math.sqrt(5/math.pi)\n",
        "print( r**2*math.pi - goldenlatticeCalc(r) ) # this error should be just floating point error"
      ],
      "metadata": {
        "colab": {
          "base_uri": "https://localhost:8080/"
        },
        "id": "Mkxj9lNBeGoF",
        "outputId": "99f5a0cc-44c7-46f3-a26c-f30fac5531ef"
      },
      "execution_count": null,
      "outputs": [
        {
          "output_type": "stream",
          "name": "stdout",
          "text": [
            "8.881784197001252e-16\n"
          ]
        }
      ]
    },
    {
      "cell_type": "markdown",
      "source": [
        "Error of computing area otherwise lies on the interval $[0,1]$. We note the redundancy of approximating the area of a circle using repeatedly the computation $\\sqrt{\\frac{r}{pi}}$, but argue that like the other methods we can generalize beyond circles."
      ],
      "metadata": {
        "id": "yn-tA5g7ZJvn"
      }
    },
    {
      "cell_type": "markdown",
      "source": [
        "###Conclusion"
      ],
      "metadata": {
        "id": "Z2P6E3E6nfnS"
      }
    },
    {
      "cell_type": "markdown",
      "source": [
        "We conclude that counting lattice points is indeed a method to approximate the area or volume of things! Sometimes the error involved isn't even that bad. "
      ],
      "metadata": {
        "id": "HMqV7mlsntOZ"
      }
    }
  ]
}