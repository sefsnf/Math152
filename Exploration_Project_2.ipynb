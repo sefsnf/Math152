{
  "nbformat": 4,
  "nbformat_minor": 0,
  "metadata": {
    "colab": {
      "provenance": [],
      "include_colab_link": true
    },
    "kernelspec": {
      "name": "python3",
      "display_name": "Python 3"
    },
    "language_info": {
      "name": "python"
    }
  },
  "cells": [
    {
      "cell_type": "markdown",
      "metadata": {
        "id": "view-in-github",
        "colab_type": "text"
      },
      "source": [
        "<a href=\"https://colab.research.google.com/github/sefsnf/Math152/blob/main/Exploration_Project_2.ipynb\" target=\"_parent\"><img src=\"https://colab.research.google.com/assets/colab-badge.svg\" alt=\"Open In Colab\"/></a>"
      ]
    },
    {
      "cell_type": "markdown",
      "source": [
        "#Exploration 2: Newton's method and basins of attraction"
      ],
      "metadata": {
        "id": "qXM-TDzuR8BZ"
      }
    },
    {
      "cell_type": "markdown",
      "source": [
        "By: Tanner Boyea, Kelly Kirchner, Samuel Neff"
      ],
      "metadata": {
        "id": "d8qOBDfFSI_y"
      }
    },
    {
      "cell_type": "markdown",
      "source": [
        "Newton's Method is an algorithm used to approximate the roots of a differentiable function.\n",
        "\n",
        "The method goes as followed:\n",
        "\n",
        "First, you start with any guess as long as the function's derivative at that point is non-zero. We can call this guess $x_n$.\n",
        "Then, you calculate the functions value and derivative at that point, we can call them $f(x_n)$ and $f'(x_n)$.\n",
        "After this, you find the next term by $x_{n+1} = x - \\frac{f(x_n)}{f'(x_n)}$.\n",
        "We can epeat this step until sufficient enough precision."
      ],
      "metadata": {
        "id": "HbE3ZxX-d4WE"
      }
    },
    {
      "cell_type": "markdown",
      "source": [
        "#Tools:\n",
        "First, we will need to import all packages we plan on using.\n",
        "Numpy will be used to multiply lists and initialize the array of pixels, \n",
        "matplotlib.pyplot will be used to visualize the steps of convergence, \n",
        "PIL will be used to visualize the basins of attraction."
      ],
      "metadata": {
        "id": "lq9_0TwCfRZ2"
      }
    },
    {
      "cell_type": "code",
      "execution_count": null,
      "metadata": {
        "id": "JVHvyBhzRyzt"
      },
      "outputs": [],
      "source": [
        "import numpy as np\n",
        "from matplotlib import pyplot as plt\n",
        "from PIL import Image\n",
        "     "
      ]
    },
    {
      "cell_type": "markdown",
      "source": [
        "Newton's Fractal Setup"
      ],
      "metadata": {
        "id": "oOh19V6TUusb"
      }
    },
    {
      "cell_type": "code",
      "source": [
        "import random as rand\n",
        "\n",
        "#-----------------------------COLORS-----------------------------\n",
        "\n",
        "# list of default matlab colors\n",
        "colorList = [ [0.0   , 0.4470, 0.7410],\\\n",
        "              [0.8500, 0.3250, 0.0980],\\\n",
        "              [0.9290, 0.6940, 0.1250],\\\n",
        "              [0.4660, 0.6740, 0.1880],\\\n",
        "              [0.3010, 0.7450, 0.9330],\\\n",
        "              [0.6350, 0.0780, 0.1840] ]\n",
        "\n",
        "def getColor(n):\n",
        "  # returns nth color from colorlist. if n geq len, return random color \n",
        "  if (n < len(colorList)):\n",
        "      return colorList(n)\n",
        "  else:\n",
        "      return [rand.random(), rand.random(), rand.random()]\n",
        "\n",
        "\n",
        "#-----------------------------MATH-----------------------------\n",
        "\n",
        "# note: ik these are all functions in numpy.\n",
        "def polyDeriv(coeffs):\n",
        "  # returns the derivative of a polynomial whose nth degree coefficients are coeffs[n]\n",
        "  # output is again a list of coefficents\n",
        "  return [coeffs[n+1]*(n+1) for n in range(0,len(coeffs)-1)]\n",
        "\n",
        "def polyEval(coeffs, X):\n",
        "  # evaluates a polynomial at an array of numpy points X\n",
        "  out = np.zeros(np.shape(X))\n",
        "  for n in range(0,len(coeffs)):\n",
        "      out = np.add(out, np.multiply(np.power(X,n), coeffs[n]))\n",
        "  return out\n",
        "\n",
        "def polyToString(coeffs):\n",
        "  # makes stuff readable\n",
        "  out = \"\"\n",
        "  for n in range(len(coeffs)-1,-1,-1):\n",
        "      out += str(coeffs[n]) + \"x^\" + str(n)\n",
        "      if (n>0): out += \" + \"\n",
        "  return out  \n",
        "\n",
        "#-----------------------------MATH-----------------------------\n"
      ],
      "metadata": {
        "id": "NdUK6y6VUuJb"
      },
      "execution_count": 84,
      "outputs": []
    },
    {
      "cell_type": "code",
      "source": [
        "print(polyEval([0,1,-2,3],np.array([3+2j,4])))\n",
        "print(polyToString([1j,1,2,3]))\n",
        "print(polyToString(polyDeriv([1j,1,2,3])))"
      ],
      "metadata": {
        "colab": {
          "base_uri": "https://localhost:8080/"
        },
        "id": "kxWl_fqrWivH",
        "outputId": "769f6cd7-146a-4f8f-ef65-45502b0fd1f7"
      },
      "execution_count": 58,
      "outputs": [
        {
          "output_type": "stream",
          "name": "stdout",
          "text": [
            "[-34.+116.j 164.  +0.j]\n",
            "3x^3 + 2x^2 + 1x^1 + 1jx^0\n",
            "9x^2 + 4x^1 + 1x^0\n"
          ]
        }
      ]
    },
    {
      "cell_type": "code",
      "source": [
        "def polyNewtMethod(coeffs, X, itter):\n",
        "    # newtons method for arbitrary numpy initial guess\n",
        "    # returns where different values of X lands\n",
        "    # note we use a for-loop rather than a recursive scheme because we expect the sequence for different values of X to converge at wildly different rates\n",
        "    pdivcoeffs = polyDeriv(coeffs)\n",
        "    for n in range(0,itter):\n",
        "        X = np.add(  X, -np.divide( polyEval(coeffs,X),\\\n",
        "                                    polyEval(pdivcoeffs,X) )  )\n",
        "        \n",
        "    return X"
      ],
      "metadata": {
        "id": "gYHErhXycLTw"
      },
      "execution_count": null,
      "outputs": []
    },
    {
      "cell_type": "code",
      "source": [
        "#TODO: varables for range\n",
        "def newtFractal(coeffs, itter):\n",
        "    # displays newton's fractal for a list of coefficients after some itterations\n",
        "    X,Y = np.meshgrid(np.linspace(-20, 20, 500),\\\n",
        "                      np.linspace(-20, 20, 500))\n",
        "\n",
        "    InVal = np.add(X, np.multiply(Y,1j))\n",
        "    zeros = polyNewtMethod(coeffs, InVal, itter)\n",
        "\n",
        "    tempvar = np.uint8(np.angle(zeros))\n",
        "    imgArray = np.array(np.zeros(np.shape(X)+tuple( [3] ))) #TODO: very much not newton's fractal (color values by the root they are closet to)\n",
        "    imgArray[:,:,1] = tempvar * 200\n",
        "    imgArray = np.uint8(imgArray)\n",
        "\n",
        "    img = Image.fromarray(imgArray) # Create an image from the array.\n",
        "    display(img)"
      ],
      "metadata": {
        "id": "jcMp3y-EaqCz"
      },
      "execution_count": 178,
      "outputs": []
    },
    {
      "cell_type": "code",
      "source": [
        "#test block-remember to delete\n",
        "#polyNewtMethod([100,0,-1], [10.1], 1000)\n",
        "newtFractal([-1,0,0,0,1], 80)"
      ],
      "metadata": {
        "colab": {
          "base_uri": "https://localhost:8080/",
          "height": 517
        },
        "id": "OhIcvkSzgb34",
        "outputId": "1aa5f4a6-21dd-4e40-97fc-b14ea2bd1b1a"
      },
      "execution_count": 183,
      "outputs": [
        {
          "output_type": "display_data",
          "data": {
            "text/plain": [
              "<PIL.Image.Image image mode=RGB size=500x500 at 0x7F8B23DD5220>"
            ],
            "image/png": "[encoded data removed]"
          },
          "metadata": {}
        }
      ]
    }
  ]
}